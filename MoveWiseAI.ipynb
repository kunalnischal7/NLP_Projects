{
  "cells": [
    {
      "cell_type": "markdown",
      "metadata": {
        "id": "view-in-github",
        "colab_type": "text"
      },
      "source": [
        "<a href=\"https://colab.research.google.com/github/kunalnischal7/NLP_Projects/blob/main/MoveWiseAI.ipynb\" target=\"_parent\"><img src=\"https://colab.research.google.com/assets/colab-badge.svg\" alt=\"Open In Colab\"/></a>"
      ]
    },
    {
      "cell_type": "markdown",
      "metadata": {
        "id": "xaoBsyFADBqN"
      },
      "source": [
        "# MoveWiseAI"
      ]
    },
    {
      "cell_type": "markdown",
      "metadata": {
        "id": "JwDyV-QOCzUI"
      },
      "source": [
        "## Importing Libraries"
      ]
    },
    {
      "cell_type": "code",
      "execution_count": null,
      "metadata": {
        "id": "5CMTxNM6DHoG"
      },
      "outputs": [],
      "source": [
        "import numpy as np\n",
        "import pandas as pd\n",
        "from sqlalchemy import create_engine, text\n",
        "import google.generativeai as genai\n",
        "from google.colab import drive"
      ]
    },
    {
      "cell_type": "markdown",
      "metadata": {
        "id": "HwjcdN2jDM9h"
      },
      "source": [
        "### Connecting with Google Gemini"
      ]
    },
    {
      "cell_type": "code",
      "execution_count": null,
      "metadata": {
        "id": "d0m09Ah3DUPP"
      },
      "outputs": [],
      "source": [
        "genai.configure(api_key=\"Your_Google_Gemini_API_Key\")"
      ]
    },
    {
      "cell_type": "markdown",
      "metadata": {
        "id": "us4SQkhXDgN3"
      },
      "source": [
        "## Data Preparation"
      ]
    },
    {
      "cell_type": "markdown",
      "metadata": {
        "id": "SYdVhJlgDdMW"
      },
      "source": [
        "### Load Data"
      ]
    },
    {
      "cell_type": "code",
      "execution_count": null,
      "metadata": {
        "colab": {
          "base_uri": "https://localhost:8080/"
        },
        "id": "aIYrtdF-DLPb",
        "outputId": "8f6c6d59-d5fb-4d36-cba7-6d8e58c4040a"
      },
      "outputs": [
        {
          "name": "stdout",
          "output_type": "stream",
          "text": [
            "Drive already mounted at /content/drive; to attempt to forcibly remount, call drive.mount(\"/content/drive\", force_remount=True).\n",
            "Loading dataset...\n"
          ]
        }
      ],
      "source": [
        "drive.mount('/content/drive')\n",
        "CSV_FILE = '/content/drive/MyDrive/logistics_data_updated.csv'\n",
        "print(\"Loading dataset...\")\n",
        "df = pd.read_csv(CSV_FILE)"
      ]
    },
    {
      "cell_type": "code",
      "execution_count": null,
      "metadata": {
        "colab": {
          "base_uri": "https://localhost:8080/",
          "height": 419
        },
        "id": "uC95np16D5vf",
        "outputId": "42ca9db7-0ac9-47d6-a81f-28298a8740e3"
      },
      "outputs": [
        {
          "data": {
            "application/vnd.google.colaboratory.intrinsic+json": {
              "summary": "{\n  \"name\": \"df\",\n  \"rows\": 4464,\n  \"fields\": [\n    {\n      \"column\": \"Article_ID\",\n      \"properties\": {\n        \"dtype\": \"number\",\n        \"std\": 287,\n        \"min\": 1,\n        \"max\": 1000,\n        \"num_unique_values\": 1000,\n        \"samples\": [\n          522,\n          738,\n          741\n        ],\n        \"semantic_type\": \"\",\n        \"description\": \"\"\n      }\n    },\n    {\n      \"column\": \"Facility\",\n      \"properties\": {\n        \"dtype\": \"category\",\n        \"num_unique_values\": 10,\n        \"samples\": [\n          \"Gold Coast\",\n          \"Adelaide\",\n          \"Geelong\"\n        ],\n        \"semantic_type\": \"\",\n        \"description\": \"\"\n      }\n    },\n    {\n      \"column\": \"Start_Timestamp\",\n      \"properties\": {\n        \"dtype\": \"object\",\n        \"num_unique_values\": 4463,\n        \"samples\": [\n          \"2025-05-19 07:02:27\",\n          \"2025-02-15 16:11:03\",\n          \"2025-06-27 20:28:00\"\n        ],\n        \"semantic_type\": \"\",\n        \"description\": \"\"\n      }\n    },\n    {\n      \"column\": \"End_Timestamp\",\n      \"properties\": {\n        \"dtype\": \"object\",\n        \"num_unique_values\": 4463,\n        \"samples\": [\n          \"2025-05-20 07:47:27\",\n          \"2025-02-15 19:29:03\",\n          \"2025-06-27 23:48:00\"\n        ],\n        \"semantic_type\": \"\",\n        \"description\": \"\"\n      }\n    },\n    {\n      \"column\": \"Processing_Time_Min\",\n      \"properties\": {\n        \"dtype\": \"number\",\n        \"std\": 43,\n        \"min\": 30,\n        \"max\": 180,\n        \"num_unique_values\": 151,\n        \"samples\": [\n          62,\n          111,\n          172\n        ],\n        \"semantic_type\": \"\",\n        \"description\": \"\"\n      }\n    },\n    {\n      \"column\": \"Day\",\n      \"properties\": {\n        \"dtype\": \"category\",\n        \"num_unique_values\": 7,\n        \"samples\": [\n          \"Sunday\",\n          \"Monday\",\n          \"Friday\"\n        ],\n        \"semantic_type\": \"\",\n        \"description\": \"\"\n      }\n    },\n    {\n      \"column\": \"Weight\",\n      \"properties\": {\n        \"dtype\": \"number\",\n        \"std\": 14.781290835613364,\n        \"min\": 0.5,\n        \"max\": 49.99,\n        \"num_unique_values\": 900,\n        \"samples\": [\n          5.02,\n          32.49,\n          19.16\n        ],\n        \"semantic_type\": \"\",\n        \"description\": \"\"\n      }\n    },\n    {\n      \"column\": \"Customer_ID\",\n      \"properties\": {\n        \"dtype\": \"category\",\n        \"num_unique_values\": 198,\n        \"samples\": [\n          \"CUST7567\",\n          \"CUST2745\",\n          \"CUST2486\"\n        ],\n        \"semantic_type\": \"\",\n        \"description\": \"\"\n      }\n    }\n  ]\n}",
              "type": "dataframe",
              "variable_name": "df"
            },
            "text/html": [
              "\n",
              "  <div id=\"df-093e3003-2596-40d4-89c5-5bc9f8adbfb2\" class=\"colab-df-container\">\n",
              "    <div>\n",
              "<style scoped>\n",
              "    .dataframe tbody tr th:only-of-type {\n",
              "        vertical-align: middle;\n",
              "    }\n",
              "\n",
              "    .dataframe tbody tr th {\n",
              "        vertical-align: top;\n",
              "    }\n",
              "\n",
              "    .dataframe thead th {\n",
              "        text-align: right;\n",
              "    }\n",
              "</style>\n",
              "<table border=\"1\" class=\"dataframe\">\n",
              "  <thead>\n",
              "    <tr style=\"text-align: right;\">\n",
              "      <th></th>\n",
              "      <th>Article_ID</th>\n",
              "      <th>Facility</th>\n",
              "      <th>Start_Timestamp</th>\n",
              "      <th>End_Timestamp</th>\n",
              "      <th>Processing_Time_Min</th>\n",
              "      <th>Day</th>\n",
              "      <th>Weight</th>\n",
              "      <th>Customer_ID</th>\n",
              "    </tr>\n",
              "  </thead>\n",
              "  <tbody>\n",
              "    <tr>\n",
              "      <th>0</th>\n",
              "      <td>1</td>\n",
              "      <td>Perth</td>\n",
              "      <td>2025-10-12 02:51:46</td>\n",
              "      <td>2025-10-12 06:36:46</td>\n",
              "      <td>57</td>\n",
              "      <td>Sunday</td>\n",
              "      <td>26.23</td>\n",
              "      <td>CUST4252</td>\n",
              "    </tr>\n",
              "    <tr>\n",
              "      <th>1</th>\n",
              "      <td>1</td>\n",
              "      <td>Adelaide</td>\n",
              "      <td>2025-10-12 06:36:46</td>\n",
              "      <td>2025-10-12 13:25:46</td>\n",
              "      <td>118</td>\n",
              "      <td>Sunday</td>\n",
              "      <td>26.23</td>\n",
              "      <td>CUST4252</td>\n",
              "    </tr>\n",
              "    <tr>\n",
              "      <th>2</th>\n",
              "      <td>1</td>\n",
              "      <td>Adelaide</td>\n",
              "      <td>2025-10-12 13:25:46</td>\n",
              "      <td>2025-10-13 03:47:46</td>\n",
              "      <td>140</td>\n",
              "      <td>Sunday</td>\n",
              "      <td>26.23</td>\n",
              "      <td>CUST4252</td>\n",
              "    </tr>\n",
              "    <tr>\n",
              "      <th>3</th>\n",
              "      <td>1</td>\n",
              "      <td>Sydney</td>\n",
              "      <td>2025-10-13 03:47:46</td>\n",
              "      <td>2025-10-13 15:38:46</td>\n",
              "      <td>142</td>\n",
              "      <td>Monday</td>\n",
              "      <td>26.23</td>\n",
              "      <td>CUST4252</td>\n",
              "    </tr>\n",
              "    <tr>\n",
              "      <th>4</th>\n",
              "      <td>1</td>\n",
              "      <td>Sydney</td>\n",
              "      <td>2025-10-13 15:38:46</td>\n",
              "      <td>2025-10-14 05:10:46</td>\n",
              "      <td>151</td>\n",
              "      <td>Monday</td>\n",
              "      <td>26.23</td>\n",
              "      <td>CUST4252</td>\n",
              "    </tr>\n",
              "    <tr>\n",
              "      <th>...</th>\n",
              "      <td>...</td>\n",
              "      <td>...</td>\n",
              "      <td>...</td>\n",
              "      <td>...</td>\n",
              "      <td>...</td>\n",
              "      <td>...</td>\n",
              "      <td>...</td>\n",
              "      <td>...</td>\n",
              "    </tr>\n",
              "    <tr>\n",
              "      <th>4459</th>\n",
              "      <td>999</td>\n",
              "      <td>Canberra</td>\n",
              "      <td>2025-04-12 19:43:54</td>\n",
              "      <td>2025-04-13 02:42:54</td>\n",
              "      <td>67</td>\n",
              "      <td>Saturday</td>\n",
              "      <td>22.98</td>\n",
              "      <td>CUST3781</td>\n",
              "    </tr>\n",
              "    <tr>\n",
              "      <th>4460</th>\n",
              "      <td>1000</td>\n",
              "      <td>Perth</td>\n",
              "      <td>2025-07-17 07:36:33</td>\n",
              "      <td>2025-07-17 13:09:33</td>\n",
              "      <td>60</td>\n",
              "      <td>Thursday</td>\n",
              "      <td>13.63</td>\n",
              "      <td>CUST2617</td>\n",
              "    </tr>\n",
              "    <tr>\n",
              "      <th>4461</th>\n",
              "      <td>1000</td>\n",
              "      <td>Melbourne</td>\n",
              "      <td>2025-07-17 13:09:33</td>\n",
              "      <td>2025-07-17 22:41:33</td>\n",
              "      <td>149</td>\n",
              "      <td>Thursday</td>\n",
              "      <td>13.63</td>\n",
              "      <td>CUST2617</td>\n",
              "    </tr>\n",
              "    <tr>\n",
              "      <th>4462</th>\n",
              "      <td>1000</td>\n",
              "      <td>Brisbane</td>\n",
              "      <td>2025-07-17 22:41:33</td>\n",
              "      <td>2025-07-18 17:03:33</td>\n",
              "      <td>77</td>\n",
              "      <td>Thursday</td>\n",
              "      <td>13.63</td>\n",
              "      <td>CUST2617</td>\n",
              "    </tr>\n",
              "    <tr>\n",
              "      <th>4463</th>\n",
              "      <td>1000</td>\n",
              "      <td>Perth</td>\n",
              "      <td>2025-07-18 17:03:33</td>\n",
              "      <td>2025-07-19 09:24:33</td>\n",
              "      <td>72</td>\n",
              "      <td>Friday</td>\n",
              "      <td>13.63</td>\n",
              "      <td>CUST2617</td>\n",
              "    </tr>\n",
              "  </tbody>\n",
              "</table>\n",
              "<p>4464 rows × 8 columns</p>\n",
              "</div>\n",
              "    <div class=\"colab-df-buttons\">\n",
              "\n",
              "  <div class=\"colab-df-container\">\n",
              "    <button class=\"colab-df-convert\" onclick=\"convertToInteractive('df-093e3003-2596-40d4-89c5-5bc9f8adbfb2')\"\n",
              "            title=\"Convert this dataframe to an interactive table.\"\n",
              "            style=\"display:none;\">\n",
              "\n",
              "  <svg xmlns=\"http://www.w3.org/2000/svg\" height=\"24px\" viewBox=\"0 -960 960 960\">\n",
              "    <path d=\"M120-120v-720h720v720H120Zm60-500h600v-160H180v160Zm220 220h160v-160H400v160Zm0 220h160v-160H400v160ZM180-400h160v-160H180v160Zm440 0h160v-160H620v160ZM180-180h160v-160H180v160Zm440 0h160v-160H620v160Z\"/>\n",
              "  </svg>\n",
              "    </button>\n",
              "\n",
              "  <style>\n",
              "    .colab-df-container {\n",
              "      display:flex;\n",
              "      gap: 12px;\n",
              "    }\n",
              "\n",
              "    .colab-df-convert {\n",
              "      background-color: #E8F0FE;\n",
              "      border: none;\n",
              "      border-radius: 50%;\n",
              "      cursor: pointer;\n",
              "      display: none;\n",
              "      fill: #1967D2;\n",
              "      height: 32px;\n",
              "      padding: 0 0 0 0;\n",
              "      width: 32px;\n",
              "    }\n",
              "\n",
              "    .colab-df-convert:hover {\n",
              "      background-color: #E2EBFA;\n",
              "      box-shadow: 0px 1px 2px rgba(60, 64, 67, 0.3), 0px 1px 3px 1px rgba(60, 64, 67, 0.15);\n",
              "      fill: #174EA6;\n",
              "    }\n",
              "\n",
              "    .colab-df-buttons div {\n",
              "      margin-bottom: 4px;\n",
              "    }\n",
              "\n",
              "    [theme=dark] .colab-df-convert {\n",
              "      background-color: #3B4455;\n",
              "      fill: #D2E3FC;\n",
              "    }\n",
              "\n",
              "    [theme=dark] .colab-df-convert:hover {\n",
              "      background-color: #434B5C;\n",
              "      box-shadow: 0px 1px 3px 1px rgba(0, 0, 0, 0.15);\n",
              "      filter: drop-shadow(0px 1px 2px rgba(0, 0, 0, 0.3));\n",
              "      fill: #FFFFFF;\n",
              "    }\n",
              "  </style>\n",
              "\n",
              "    <script>\n",
              "      const buttonEl =\n",
              "        document.querySelector('#df-093e3003-2596-40d4-89c5-5bc9f8adbfb2 button.colab-df-convert');\n",
              "      buttonEl.style.display =\n",
              "        google.colab.kernel.accessAllowed ? 'block' : 'none';\n",
              "\n",
              "      async function convertToInteractive(key) {\n",
              "        const element = document.querySelector('#df-093e3003-2596-40d4-89c5-5bc9f8adbfb2');\n",
              "        const dataTable =\n",
              "          await google.colab.kernel.invokeFunction('convertToInteractive',\n",
              "                                                    [key], {});\n",
              "        if (!dataTable) return;\n",
              "\n",
              "        const docLinkHtml = 'Like what you see? Visit the ' +\n",
              "          '<a target=\"_blank\" href=https://colab.research.google.com/notebooks/data_table.ipynb>data table notebook</a>'\n",
              "          + ' to learn more about interactive tables.';\n",
              "        element.innerHTML = '';\n",
              "        dataTable['output_type'] = 'display_data';\n",
              "        await google.colab.output.renderOutput(dataTable, element);\n",
              "        const docLink = document.createElement('div');\n",
              "        docLink.innerHTML = docLinkHtml;\n",
              "        element.appendChild(docLink);\n",
              "      }\n",
              "    </script>\n",
              "  </div>\n",
              "\n",
              "\n",
              "<div id=\"df-68fdf700-6532-4d09-bdcc-35f96424ab14\">\n",
              "  <button class=\"colab-df-quickchart\" onclick=\"quickchart('df-68fdf700-6532-4d09-bdcc-35f96424ab14')\"\n",
              "            title=\"Suggest charts\"\n",
              "            style=\"display:none;\">\n",
              "\n",
              "<svg xmlns=\"http://www.w3.org/2000/svg\" height=\"24px\"viewBox=\"0 0 24 24\"\n",
              "     width=\"24px\">\n",
              "    <g>\n",
              "        <path d=\"M19 3H5c-1.1 0-2 .9-2 2v14c0 1.1.9 2 2 2h14c1.1 0 2-.9 2-2V5c0-1.1-.9-2-2-2zM9 17H7v-7h2v7zm4 0h-2V7h2v10zm4 0h-2v-4h2v4z\"/>\n",
              "    </g>\n",
              "</svg>\n",
              "  </button>\n",
              "\n",
              "<style>\n",
              "  .colab-df-quickchart {\n",
              "      --bg-color: #E8F0FE;\n",
              "      --fill-color: #1967D2;\n",
              "      --hover-bg-color: #E2EBFA;\n",
              "      --hover-fill-color: #174EA6;\n",
              "      --disabled-fill-color: #AAA;\n",
              "      --disabled-bg-color: #DDD;\n",
              "  }\n",
              "\n",
              "  [theme=dark] .colab-df-quickchart {\n",
              "      --bg-color: #3B4455;\n",
              "      --fill-color: #D2E3FC;\n",
              "      --hover-bg-color: #434B5C;\n",
              "      --hover-fill-color: #FFFFFF;\n",
              "      --disabled-bg-color: #3B4455;\n",
              "      --disabled-fill-color: #666;\n",
              "  }\n",
              "\n",
              "  .colab-df-quickchart {\n",
              "    background-color: var(--bg-color);\n",
              "    border: none;\n",
              "    border-radius: 50%;\n",
              "    cursor: pointer;\n",
              "    display: none;\n",
              "    fill: var(--fill-color);\n",
              "    height: 32px;\n",
              "    padding: 0;\n",
              "    width: 32px;\n",
              "  }\n",
              "\n",
              "  .colab-df-quickchart:hover {\n",
              "    background-color: var(--hover-bg-color);\n",
              "    box-shadow: 0 1px 2px rgba(60, 64, 67, 0.3), 0 1px 3px 1px rgba(60, 64, 67, 0.15);\n",
              "    fill: var(--button-hover-fill-color);\n",
              "  }\n",
              "\n",
              "  .colab-df-quickchart-complete:disabled,\n",
              "  .colab-df-quickchart-complete:disabled:hover {\n",
              "    background-color: var(--disabled-bg-color);\n",
              "    fill: var(--disabled-fill-color);\n",
              "    box-shadow: none;\n",
              "  }\n",
              "\n",
              "  .colab-df-spinner {\n",
              "    border: 2px solid var(--fill-color);\n",
              "    border-color: transparent;\n",
              "    border-bottom-color: var(--fill-color);\n",
              "    animation:\n",
              "      spin 1s steps(1) infinite;\n",
              "  }\n",
              "\n",
              "  @keyframes spin {\n",
              "    0% {\n",
              "      border-color: transparent;\n",
              "      border-bottom-color: var(--fill-color);\n",
              "      border-left-color: var(--fill-color);\n",
              "    }\n",
              "    20% {\n",
              "      border-color: transparent;\n",
              "      border-left-color: var(--fill-color);\n",
              "      border-top-color: var(--fill-color);\n",
              "    }\n",
              "    30% {\n",
              "      border-color: transparent;\n",
              "      border-left-color: var(--fill-color);\n",
              "      border-top-color: var(--fill-color);\n",
              "      border-right-color: var(--fill-color);\n",
              "    }\n",
              "    40% {\n",
              "      border-color: transparent;\n",
              "      border-right-color: var(--fill-color);\n",
              "      border-top-color: var(--fill-color);\n",
              "    }\n",
              "    60% {\n",
              "      border-color: transparent;\n",
              "      border-right-color: var(--fill-color);\n",
              "    }\n",
              "    80% {\n",
              "      border-color: transparent;\n",
              "      border-right-color: var(--fill-color);\n",
              "      border-bottom-color: var(--fill-color);\n",
              "    }\n",
              "    90% {\n",
              "      border-color: transparent;\n",
              "      border-bottom-color: var(--fill-color);\n",
              "    }\n",
              "  }\n",
              "</style>\n",
              "\n",
              "  <script>\n",
              "    async function quickchart(key) {\n",
              "      const quickchartButtonEl =\n",
              "        document.querySelector('#' + key + ' button');\n",
              "      quickchartButtonEl.disabled = true;  // To prevent multiple clicks.\n",
              "      quickchartButtonEl.classList.add('colab-df-spinner');\n",
              "      try {\n",
              "        const charts = await google.colab.kernel.invokeFunction(\n",
              "            'suggestCharts', [key], {});\n",
              "      } catch (error) {\n",
              "        console.error('Error during call to suggestCharts:', error);\n",
              "      }\n",
              "      quickchartButtonEl.classList.remove('colab-df-spinner');\n",
              "      quickchartButtonEl.classList.add('colab-df-quickchart-complete');\n",
              "    }\n",
              "    (() => {\n",
              "      let quickchartButtonEl =\n",
              "        document.querySelector('#df-68fdf700-6532-4d09-bdcc-35f96424ab14 button');\n",
              "      quickchartButtonEl.style.display =\n",
              "        google.colab.kernel.accessAllowed ? 'block' : 'none';\n",
              "    })();\n",
              "  </script>\n",
              "</div>\n",
              "\n",
              "  <div id=\"id_3a2ef067-7a0b-40d8-bb90-3a19411f93eb\">\n",
              "    <style>\n",
              "      .colab-df-generate {\n",
              "        background-color: #E8F0FE;\n",
              "        border: none;\n",
              "        border-radius: 50%;\n",
              "        cursor: pointer;\n",
              "        display: none;\n",
              "        fill: #1967D2;\n",
              "        height: 32px;\n",
              "        padding: 0 0 0 0;\n",
              "        width: 32px;\n",
              "      }\n",
              "\n",
              "      .colab-df-generate:hover {\n",
              "        background-color: #E2EBFA;\n",
              "        box-shadow: 0px 1px 2px rgba(60, 64, 67, 0.3), 0px 1px 3px 1px rgba(60, 64, 67, 0.15);\n",
              "        fill: #174EA6;\n",
              "      }\n",
              "\n",
              "      [theme=dark] .colab-df-generate {\n",
              "        background-color: #3B4455;\n",
              "        fill: #D2E3FC;\n",
              "      }\n",
              "\n",
              "      [theme=dark] .colab-df-generate:hover {\n",
              "        background-color: #434B5C;\n",
              "        box-shadow: 0px 1px 3px 1px rgba(0, 0, 0, 0.15);\n",
              "        filter: drop-shadow(0px 1px 2px rgba(0, 0, 0, 0.3));\n",
              "        fill: #FFFFFF;\n",
              "      }\n",
              "    </style>\n",
              "    <button class=\"colab-df-generate\" onclick=\"generateWithVariable('df')\"\n",
              "            title=\"Generate code using this dataframe.\"\n",
              "            style=\"display:none;\">\n",
              "\n",
              "  <svg xmlns=\"http://www.w3.org/2000/svg\" height=\"24px\"viewBox=\"0 0 24 24\"\n",
              "       width=\"24px\">\n",
              "    <path d=\"M7,19H8.4L18.45,9,17,7.55,7,17.6ZM5,21V16.75L18.45,3.32a2,2,0,0,1,2.83,0l1.4,1.43a1.91,1.91,0,0,1,.58,1.4,1.91,1.91,0,0,1-.58,1.4L9.25,21ZM18.45,9,17,7.55Zm-12,3A5.31,5.31,0,0,0,4.9,8.1,5.31,5.31,0,0,0,1,6.5,5.31,5.31,0,0,0,4.9,4.9,5.31,5.31,0,0,0,6.5,1,5.31,5.31,0,0,0,8.1,4.9,5.31,5.31,0,0,0,12,6.5,5.46,5.46,0,0,0,6.5,12Z\"/>\n",
              "  </svg>\n",
              "    </button>\n",
              "    <script>\n",
              "      (() => {\n",
              "      const buttonEl =\n",
              "        document.querySelector('#id_3a2ef067-7a0b-40d8-bb90-3a19411f93eb button.colab-df-generate');\n",
              "      buttonEl.style.display =\n",
              "        google.colab.kernel.accessAllowed ? 'block' : 'none';\n",
              "\n",
              "      buttonEl.onclick = () => {\n",
              "        google.colab.notebook.generateWithVariable('df');\n",
              "      }\n",
              "      })();\n",
              "    </script>\n",
              "  </div>\n",
              "\n",
              "    </div>\n",
              "  </div>\n"
            ],
            "text/plain": [
              "      Article_ID   Facility      Start_Timestamp        End_Timestamp  \\\n",
              "0              1      Perth  2025-10-12 02:51:46  2025-10-12 06:36:46   \n",
              "1              1   Adelaide  2025-10-12 06:36:46  2025-10-12 13:25:46   \n",
              "2              1   Adelaide  2025-10-12 13:25:46  2025-10-13 03:47:46   \n",
              "3              1     Sydney  2025-10-13 03:47:46  2025-10-13 15:38:46   \n",
              "4              1     Sydney  2025-10-13 15:38:46  2025-10-14 05:10:46   \n",
              "...          ...        ...                  ...                  ...   \n",
              "4459         999   Canberra  2025-04-12 19:43:54  2025-04-13 02:42:54   \n",
              "4460        1000      Perth  2025-07-17 07:36:33  2025-07-17 13:09:33   \n",
              "4461        1000  Melbourne  2025-07-17 13:09:33  2025-07-17 22:41:33   \n",
              "4462        1000   Brisbane  2025-07-17 22:41:33  2025-07-18 17:03:33   \n",
              "4463        1000      Perth  2025-07-18 17:03:33  2025-07-19 09:24:33   \n",
              "\n",
              "      Processing_Time_Min       Day  Weight Customer_ID  \n",
              "0                      57    Sunday   26.23    CUST4252  \n",
              "1                     118    Sunday   26.23    CUST4252  \n",
              "2                     140    Sunday   26.23    CUST4252  \n",
              "3                     142    Monday   26.23    CUST4252  \n",
              "4                     151    Monday   26.23    CUST4252  \n",
              "...                   ...       ...     ...         ...  \n",
              "4459                   67  Saturday   22.98    CUST3781  \n",
              "4460                   60  Thursday   13.63    CUST2617  \n",
              "4461                  149  Thursday   13.63    CUST2617  \n",
              "4462                   77  Thursday   13.63    CUST2617  \n",
              "4463                   72    Friday   13.63    CUST2617  \n",
              "\n",
              "[4464 rows x 8 columns]"
            ]
          },
          "execution_count": 4,
          "metadata": {},
          "output_type": "execute_result"
        }
      ],
      "source": [
        "df"
      ]
    },
    {
      "cell_type": "markdown",
      "metadata": {
        "id": "3Xh8VANIEF5T"
      },
      "source": [
        "### Ensuring data has all the columns"
      ]
    },
    {
      "cell_type": "code",
      "execution_count": null,
      "metadata": {
        "id": "K7KnzKCSEEld"
      },
      "outputs": [],
      "source": [
        "required_columns = {\"Article_ID\", \"Facility\", \"Start_Timestamp\", \"End_Timestamp\", \"Processing_Time_Min\", \"Day\", \"Weight\", \"Customer_ID\"}\n",
        "if not required_columns.issubset(df.columns):\n",
        "    raise ValueError(f\"Missing columns. Found: {df.columns}\")"
      ]
    },
    {
      "cell_type": "markdown",
      "metadata": {
        "id": "twTDZYuKG4Rl"
      },
      "source": [
        "### Convert timestamps to datetime"
      ]
    },
    {
      "cell_type": "code",
      "execution_count": null,
      "metadata": {
        "id": "zy6CQNRkG31g"
      },
      "outputs": [],
      "source": [
        "df['Start_Timestamp'] = pd.to_datetime(df['Start_Timestamp'])\n",
        "df['End_Timestamp'] = pd.to_datetime(df['End_Timestamp'])"
      ]
    },
    {
      "cell_type": "markdown",
      "metadata": {
        "id": "1mSyFjVwHKQb"
      },
      "source": [
        "### Extracting Date Parts for Trend Analysis"
      ]
    },
    {
      "cell_type": "code",
      "execution_count": null,
      "metadata": {
        "id": "G14jRfpPHK2r"
      },
      "outputs": [],
      "source": [
        "df['Day'] = df['Start_Timestamp'].dt.day_name()\n",
        "df['Month'] = df['Start_Timestamp'].dt.month_name()"
      ]
    },
    {
      "cell_type": "markdown",
      "metadata": {
        "id": "IW4LsbPSHSIU"
      },
      "source": [
        "df.head()"
      ]
    },
    {
      "cell_type": "markdown",
      "metadata": {
        "id": "KCBQRZZZHaK_"
      },
      "source": [
        "## SQL"
      ]
    },
    {
      "cell_type": "code",
      "execution_count": null,
      "metadata": {
        "colab": {
          "base_uri": "https://localhost:8080/"
        },
        "id": "xuOl3rlAIp5h",
        "outputId": "fb33fe8b-7b1a-421c-b352-5da0131a21fb"
      },
      "outputs": [
        {
          "data": {
            "text/plain": [
              "4464"
            ]
          },
          "execution_count": 8,
          "metadata": {},
          "output_type": "execute_result"
        }
      ],
      "source": [
        "# Initialize SQLAlchemy Engine\n",
        "engine = create_engine('sqlite:///:memory:')  # Using an in-memory SQLite database\n",
        "\n",
        "# Create the SQL table\n",
        "df.to_sql('articles', con=engine, if_exists='replace', index=False)"
      ]
    },
    {
      "cell_type": "markdown",
      "metadata": {
        "id": "QmJVczEOHf0n"
      },
      "source": [
        "### SQL Generation Function"
      ]
    },
    {
      "cell_type": "code",
      "execution_count": null,
      "metadata": {
        "id": "dYuAYW4nHcsG"
      },
      "outputs": [],
      "source": [
        "def generate_sql(natural_query):\n",
        "    prompt = f\"\"\"\n",
        "    **Task**: Convert natural language to precise SQL\n",
        "    **Schema**:\n",
        "    - articles (\n",
        "        Article_ID INT,\n",
        "        Facility TEXT,\n",
        "        Start_Timestamp DATETIME,\n",
        "        End_Timestamp DATETIME,\n",
        "        Processing_Time_Min INT,\n",
        "        Day TEXT,\n",
        "        Weight FLOAT,\n",
        "        Customer_ID TEXT\n",
        "    )\n",
        "\n",
        "    **Rules**:\n",
        "    1. Use EXACT facility names: {sorted(df['Facility'].unique())}\n",
        "    2. For counts, use COUNT(DISTINCT Article_ID)\n",
        "    3. Use GROUP BY for facility/customer/day/month aggregations\n",
        "    4. Use ORDER BY and LIMIT for \"maximum\" or \"highest\" queries\n",
        "    5. For time calculations, use Processing_Time_Min column\n",
        "    6. For trends, consider Day and Month columns\n",
        "    7. For customer analysis, use Customer_ID field\n",
        "\n",
        "    **Examples**:\n",
        "    - \"Facility with most articles\" →\n",
        "      SELECT Facility, COUNT(DISTINCT Article_ID) AS Article_Count\n",
        "      FROM articles\n",
        "      GROUP BY Facility\n",
        "      ORDER BY Article_Count DESC\n",
        "      LIMIT 1\n",
        "\n",
        "    - \"Average processing time per facility\" →\n",
        "      SELECT Facility, AVG(Processing_Time_Min) AS Avg_Processing_Time\n",
        "      FROM articles\n",
        "      GROUP BY Facility\n",
        "\n",
        "    - \"Customer with most shipments\" →\n",
        "      SELECT Customer_ID, COUNT(DISTINCT Article_ID) AS Shipment_Count\n",
        "      FROM articles\n",
        "      GROUP BY Customer_ID\n",
        "      ORDER BY Shipment_Count DESC\n",
        "      LIMIT 1\n",
        "\n",
        "    - \"Daily average processing time\" →\n",
        "      SELECT Day, AVG(Processing_Time_Min) AS Avg_Processing_Time\n",
        "      FROM articles\n",
        "      GROUP BY Day\n",
        "\n",
        "    - \"Monthly shipment count\" →\n",
        "      SELECT Month, COUNT(DISTINCT Article_ID) AS Shipment_Count\n",
        "      FROM articles\n",
        "      GROUP BY Month\n",
        "\n",
        "    **Query to Convert**: \"{natural_query}\"\n",
        "    \"\"\"\n",
        "\n",
        "    model = genai.GenerativeModel('gemini-pro')\n",
        "    response = model.generate_content(prompt)\n",
        "    return response.text.strip().replace('```sql', '').replace('```', '').strip()"
      ]
    },
    {
      "cell_type": "markdown",
      "metadata": {
        "id": "UYeWSzXiHltK"
      },
      "source": [
        "### Validation Function"
      ]
    },
    {
      "cell_type": "code",
      "execution_count": null,
      "metadata": {
        "id": "C_WXL42wHlWf"
      },
      "outputs": [],
      "source": [
        "def validate_sql(sql):\n",
        "    required_terms = {'SELECT', 'FROM', 'ARTICLES'}\n",
        "    if 'GROUP BY' in sql.upper() and ('COUNT(' not in sql.upper() and 'AVG(' not in sql.upper()):\n",
        "        raise ValueError(\"Aggregation queries must include COUNT/AVG\")\n",
        "    return all(term in sql.upper() for term in required_terms)"
      ]
    },
    {
      "cell_type": "markdown",
      "metadata": {
        "id": "5Ck2XRTkI5bf"
      },
      "source": [
        "### Execute SQL"
      ]
    },
    {
      "cell_type": "code",
      "execution_count": null,
      "metadata": {
        "id": "JQo6Clb7I4O9"
      },
      "outputs": [],
      "source": [
        "def execute_sql(sql_query):\n",
        "    try:\n",
        "        # Validate SQL query for safety\n",
        "        if not sql_query.strip().upper().startswith(\"SELECT\"):\n",
        "            raise ValueError(\"Only SELECT queries are allowed for security reasons.\")\n",
        "\n",
        "        # Check for common SQL injection patterns\n",
        "        if any(keyword in sql_query.upper() for keyword in [\"DROP\", \"DELETE\", \"UPDATE\", \"INSERT\", \"ALTER\"]):\n",
        "            raise ValueError(\"Modification queries are not permitted.\")\n",
        "\n",
        "        # Execute the query\n",
        "        with engine.connect() as conn:\n",
        "            result = conn.execute(text(sql_query))\n",
        "            rows = result.fetchall()\n",
        "\n",
        "            # Handle empty results\n",
        "            if not rows:\n",
        "                return None  # Return None for no results\n",
        "\n",
        "            # Always return rows as lists of tuples\n",
        "            return rows\n",
        "\n",
        "    except Exception as e:\n",
        "        return f\"Error executing SQL: {str(e)}\""
      ]
    },
    {
      "cell_type": "markdown",
      "metadata": {
        "id": "Pt9gJkn0HvMg"
      },
      "source": [
        "### Explanation Function"
      ]
    },
    {
      "cell_type": "code",
      "execution_count": null,
      "metadata": {
        "id": "u1jMw25DHu1j"
      },
      "outputs": [],
      "source": [
        "def explain_results(results, original_query, sql):\n",
        "    explanation = \"\"\n",
        "\n",
        "    # Handle numerical results\n",
        "    if any(kw in sql.upper() for kw in ['AVG', 'COUNT', 'SUM']):\n",
        "        if len(results[0]) == 2:  # Grouped results\n",
        "            items = [f\"{row[0]}: {row[1]:.2f}\" if isinstance(row[1], float) else f\"{row[0]}: {row[1]}\"\n",
        "                    for row in results]\n",
        "            explanation = \"\\n\".join(items)\n",
        "        else:  # Single value\n",
        "            explanation = f\"Result: {results[0][0]:.2f}\" if isinstance(results[0][0], float) else f\"Result: {results[0][0]}\"\n",
        "\n",
        "    # Handle time-based trends\n",
        "    elif 'DAY' in sql.upper() or 'MONTH' in sql.upper():\n",
        "        explanation = \"Trends:\\n\" + \"\\n\".join([f\"{row[0]}: {row[1]}\" for row in results])\n",
        "\n",
        "    # Handle timestamp queries\n",
        "    elif 'START_TIMESTAMP' in sql.upper() or 'END_TIMESTAMP' in sql.upper():\n",
        "        # Format timestamps to remove extra zeros\n",
        "        timestamps = [pd.to_datetime(row[0]).strftime('%Y-%m-%d %H:%M:%S') for row in results]\n",
        "        explanation = \"Start Timestamps:\\n\" + \"\\n\".join(timestamps)\n",
        "\n",
        "    else:\n",
        "        if len(results[0]) == 1:  # Single column\n",
        "            explanation = \"Results:\\n\" + \"\\n\".join([str(row[0]) for row in results])\n",
        "        else:\n",
        "            explanation = \"Results:\\n\" + \"\\n\".join([str(row) for row in results])\n",
        "\n",
        "    return explanation"
      ]
    },
    {
      "cell_type": "markdown",
      "metadata": {
        "id": "jkXP-kldH621"
      },
      "source": [
        "## Main Interaction Loop"
      ]
    },
    {
      "cell_type": "code",
      "execution_count": null,
      "metadata": {
        "colab": {
          "background_save": true,
          "base_uri": "https://localhost:8080/"
        },
        "id": "EVtM4oMVH5tJ",
        "outputId": "55034ec9-4010-4b28-897d-a9337bd678b0"
      },
      "outputs": [
        {
          "name": "stdout",
          "output_type": "stream",
          "text": [
            "\n",
            "Generated SQL: SELECT\n",
            "  Start_Timestamp\n",
            "FROM articles\n",
            "WHERE\n",
            "  Article_ID = 214;\n",
            "\n",
            "🔍 Analysis: Start Timestamps:\n",
            "2025-07-13 05:44:50\n",
            "2025-07-13 10:11:50\n",
            "2025-07-14 01:22:50\n",
            "2025-07-14 08:07:50\n",
            "\n",
            "Generated SQL: SELECT Facility, AVG(Processing_Time_Min) AS Avg_Processing_Time\n",
            "FROM articles\n",
            "GROUP BY Facility\n",
            "ORDER BY Avg_Processing_Time DESC\n",
            "LIMIT 1;\n",
            "\n",
            "🔍 Analysis: Geelong: 108.21\n",
            "\n",
            "Generated SQL: SELECT\n",
            "  Month,\n",
            "  COUNT(DISTINCT Article_ID) AS Shipment_Count\n",
            "FROM articles\n",
            "GROUP BY\n",
            "  Month;\n",
            "\n",
            "🔍 Analysis: April: 97\n",
            "August: 67\n",
            "December: 86\n",
            "February: 78\n",
            "January: 83\n",
            "July: 80\n",
            "June: 82\n",
            "March: 94\n",
            "May: 99\n",
            "November: 89\n",
            "October: 79\n",
            "September: 84\n",
            "\n",
            "Generated SQL: SELECT Customer_ID, COUNT(DISTINCT Article_ID) AS Shipment_Count\n",
            "FROM articles\n",
            "GROUP BY Customer_ID\n",
            "ORDER BY Shipment_Count DESC\n",
            "LIMIT 1;\n",
            "\n",
            "🔍 Analysis: CUST3548: 17\n",
            "\n",
            "Generated SQL: SELECT Facility, AVG(Weight) AS Avg_Package_Weight\n",
            "FROM articles\n",
            "GROUP BY Facility;\n",
            "\n",
            "🔍 Analysis: Adelaide: 24.46\n",
            "Brisbane: 24.56\n",
            "Canberra: 24.46\n",
            "Geelong: 23.61\n",
            "Gold Coast: 23.59\n",
            "Melbourne: 23.86\n",
            "Newcastle: 25.19\n",
            "Perth: 24.44\n",
            "Sydney: 23.42\n",
            "Wollongong: 25.44\n",
            "\n",
            "Generated SQL: SELECT Day, AVG(Processing_Time_Min) AS Avg_Processing_Time\n",
            "FROM articles\n",
            "GROUP BY Day;\n",
            "\n",
            "🔍 Analysis: Friday: 104.15\n",
            "Monday: 103.89\n",
            "Saturday: 105.98\n",
            "Sunday: 104.92\n",
            "Thursday: 106.03\n",
            "Tuesday: 102.66\n",
            "Wednesday: 106.21\n"
          ]
        }
      ],
      "source": [
        "# Main interaction loop\n",
        "while True:\n",
        "    user_question = input(\"\\nAsk a question (or 'exit'): \").strip()\n",
        "    if user_question.lower() == 'exit':\n",
        "        break\n",
        "\n",
        "    # Generate SQL with validation\n",
        "    try:\n",
        "        sql = generate_sql(user_question)\n",
        "        if not validate_sql(sql):\n",
        "            raise ValueError(\"Generated SQL failed validation checks\")\n",
        "\n",
        "        print(f\"\\nGenerated SQL: {sql}\")\n",
        "\n",
        "        # Execute SQL\n",
        "        results = execute_sql(sql)\n",
        "        if results is None:  # No results found\n",
        "            print(\"\\n🔍 No matching records found in the dataset.\")\n",
        "        elif isinstance(results, str):  # Error occurred\n",
        "            print(f\"\\n❌ {results}\")\n",
        "        else:\n",
        "            # Explain results\n",
        "            explanation = explain_results(results, user_question, sql)\n",
        "            print(f\"\\n🔍 Analysis: {explanation}\")\n",
        "\n",
        "    except Exception as e:\n",
        "        print(f\"\\n❌ Error: {str(e)}\")\n",
        "        print(\"Tip: Try rephrasing with facility names from: \" + \", \".join(df['Facility'].unique()))"
      ]
    },
    {
      "cell_type": "code",
      "execution_count": null,
      "metadata": {
        "id": "KeoKl_W6BKnC"
      },
      "outputs": [],
      "source": []
    }
  ],
  "metadata": {
    "colab": {
      "provenance": [],
      "authorship_tag": "ABX9TyNVBYfK3cj2X6PDJsg/bf2O",
      "include_colab_link": true
    },
    "kernelspec": {
      "display_name": "Python 3",
      "name": "python3"
    },
    "language_info": {
      "name": "python"
    }
  },
  "nbformat": 4,
  "nbformat_minor": 0
}